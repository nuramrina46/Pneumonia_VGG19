{
  "cells": [
    {
      "cell_type": "markdown",
      "metadata": {
        "id": "view-in-github",
        "colab_type": "text"
      },
      "source": [
        "<a href=\"https://colab.research.google.com/github/nuramrina46/SkripsiVGG19/blob/main/SkripsiVGG19/Learning%20rate/0.1.ipynb\" target=\"_parent\"><img src=\"https://colab.research.google.com/assets/colab-badge.svg\" alt=\"Open In Colab\"/></a>"
      ]
    },
    {
      "cell_type": "code",
      "execution_count": 1,
      "metadata": {
        "colab": {
          "base_uri": "https://localhost:8080/"
        },
        "id": "Wna0zLEcso-6",
        "outputId": "0340e5a4-7532-4609-eb91-10bdf8f0cf42"
      },
      "outputs": [
        {
          "output_type": "stream",
          "name": "stdout",
          "text": [
            "Mounted at /content/drive\n"
          ]
        }
      ],
      "source": [
        "from google.colab import drive\n",
        "drive.mount('/content/drive')"
      ]
    },
    {
      "cell_type": "code",
      "execution_count": 2,
      "metadata": {
        "colab": {
          "base_uri": "https://localhost:8080/"
        },
        "id": "50fhCbZPzlox",
        "outputId": "c3ca70bc-01ae-442f-88eb-33a0908664a5"
      },
      "outputs": [
        {
          "output_type": "stream",
          "name": "stdout",
          "text": [
            "/content/drive/My Drive/Colab Notebooks\n"
          ]
        }
      ],
      "source": [
        "cd /content/drive/My Drive/Colab Notebooks"
      ]
    },
    {
      "cell_type": "code",
      "execution_count": 3,
      "metadata": {
        "colab": {
          "base_uri": "https://localhost:8080/"
        },
        "id": "iOIsOUvTznGe",
        "outputId": "87b67435-1862-450a-89d5-f77e657c8f3d"
      },
      "outputs": [
        {
          "output_type": "stream",
          "name": "stdout",
          "text": [
            "'1000 64.ipynb'              'pneumonia VGG 16 fiX.ipynb'\n",
            "'100 vgg 16.ipynb'           'Pneumonia VGG 19 2.ipynb'\n",
            "'2000 64.ipynb'              'pneumonia vgg 19.ipynb'\n",
            "'Augmentasi_DATA (1).ipynb'  'Salinan_dari_AugmentasiAll (1).ipynb'\n",
            " Augmentasi_DATA.ipynb        Salinan_dari_AugmentasiAll.ipynb\n",
            " \u001b[0m\u001b[01;34mDataset1\u001b[0m/                   'Salinan dari pneumonia vgg 19.ipynb'\n",
            " \u001b[01;34mPNEUAUG\u001b[0m/                     Untitled0.ipynb\n",
            " \u001b[01;34mpneudata\u001b[0m/\n"
          ]
        }
      ],
      "source": [
        "ls"
      ]
    },
    {
      "cell_type": "code",
      "execution_count": 4,
      "metadata": {
        "id": "OAVcnsiZtlJO"
      },
      "outputs": [],
      "source": [
        "from keras.models import Model\n",
        "from keras.models import load_model\n",
        "from keras.models import Sequential\n",
        "from keras.layers.convolutional import Convolution2D\n",
        "from keras.layers.convolutional import MaxPooling2D\n",
        "from keras.layers.convolutional import ZeroPadding2D\n",
        "from keras.layers.core import Activation\n",
        "from keras.layers.core import Flatten\n",
        "from keras.layers.core import Dense\n",
        "from keras.layers.core import Dropout\n",
        "from keras.layers import BatchNormalization\n",
        "from keras import regularizers\n",
        "from keras.preprocessing.image import ImageDataGenerator\n",
        "from tensorflow.keras.optimizers import RMSprop, Adam, SGD\n",
        "from sklearn.preprocessing import LabelBinarizer\n",
        "from sklearn.model_selection import train_test_split\n",
        "from sklearn.metrics import classification_report\n",
        "from PIL import Image\n",
        "from matplotlib import pyplot as plt\n",
        "from imutils import paths\n",
        "import numpy as np\n",
        "import os\n",
        "import cv2"
      ]
    },
    {
      "cell_type": "code",
      "execution_count": 5,
      "metadata": {
        "colab": {
          "base_uri": "https://localhost:8080/"
        },
        "id": "3R5gMMwFQJXR",
        "outputId": "beb99be3-f891-4569-95a4-47c83f553e37"
      },
      "outputs": [
        {
          "output_type": "stream",
          "name": "stdout",
          "text": [
            "[INFO] loading images...\n"
          ]
        }
      ],
      "source": [
        "print(\"[INFO] loading images...\")\n",
        "imagePaths = paths.list_images(\"Dataset1\")\n",
        "data = []\n",
        "labels = []"
      ]
    },
    {
      "cell_type": "code",
      "execution_count": 6,
      "metadata": {
        "id": "1CJi8Vl1QMbm"
      },
      "outputs": [],
      "source": [
        "for imagePaths in imagePaths:\n",
        "    a = Image.open(imagePaths)\n",
        "    image = np.array(a.resize((64,64))) / 255.0\n",
        "    data.append(image)\n",
        "    \n",
        "    label = imagePaths.split(os.path.sep) [-2]\n",
        "    labels.append(label)"
      ]
    },
    {
      "cell_type": "code",
      "execution_count": 7,
      "metadata": {
        "colab": {
          "base_uri": "https://localhost:8080/"
        },
        "id": "8ScPugJLRSmE",
        "outputId": "2327737d-d3a9-4134-d0a4-b6f949676a54"
      },
      "outputs": [
        {
          "output_type": "stream",
          "name": "stdout",
          "text": [
            "(3166, 64, 64, 1)\n"
          ]
        }
      ],
      "source": [
        "temp = np.array(data)\n",
        "temp = np.expand_dims(temp, axis=3)\n",
        "print(temp.shape)"
      ]
    },
    {
      "cell_type": "code",
      "execution_count": 8,
      "metadata": {
        "colab": {
          "base_uri": "https://localhost:8080/"
        },
        "id": "uU2QZLHjSE-C",
        "outputId": "a0ba7133-0f40-4eee-c183-6706e669e5a3"
      },
      "outputs": [
        {
          "output_type": "stream",
          "name": "stdout",
          "text": [
            "[[0 1]\n",
            " [0 1]\n",
            " [0 1]\n",
            " ...\n",
            " [1 0]\n",
            " [1 0]\n",
            " [1 0]]\n"
          ]
        }
      ],
      "source": [
        " from sklearn.preprocessing import LabelBinarizer\n",
        "import numpy as np\n",
        "\n",
        "class MyLabelBinarizer(LabelBinarizer):\n",
        "    def transform(self, label):\n",
        "      nilaiy = super().transform(label)\n",
        "      if self.y_type_== 'binary':\n",
        "        return np.hstack((nilaiy, 1-nilaiy))\n",
        "      else:\n",
        "        return nilaiy\n",
        "    def inverse_transform(self, nilaiy, threshold=None):\n",
        "      if self.y_type_ == 'binary':\n",
        "          return super().inverse_transform(nilaiy[:, 0], threshold)\n",
        "      else:\n",
        "          return super().inverse_transform(nilaiy, threshold)\n",
        "\n",
        "lb = MyLabelBinarizer()\n",
        "labels = lb.fit_transform(labels)\n",
        "print(labels)"
      ]
    },
    {
      "cell_type": "code",
      "execution_count": 9,
      "metadata": {
        "colab": {
          "base_uri": "https://localhost:8080/"
        },
        "id": "EEyTHVkD3ENl",
        "outputId": "98c5e75b-b9d7-409c-a6b1-162c15fbfdfc"
      },
      "outputs": [
        {
          "output_type": "stream",
          "name": "stdout",
          "text": [
            "(2532, 64, 64)\n",
            "(634, 64, 64)\n"
          ]
        }
      ],
      "source": [
        "(trainX, testX, trainY, testY) = train_test_split(np.array(data), np.array(labels), test_size=0.20, random_state=100)\n",
        "print(trainX.shape)\n",
        "print(testX.shape)"
      ]
    },
    {
      "cell_type": "code",
      "execution_count": 10,
      "metadata": {
        "id": "Mgd9WqsSecaF"
      },
      "outputs": [],
      "source": [
        "def vgg19(num_classes):\n",
        "\n",
        "    vgg19 = Sequential()\n",
        "\n",
        "    #BLOCK1\n",
        "    #layer1 32*32*64\n",
        "    vgg19.add(Convolution2D(input_shape=(64,64,1),filters=64,kernel_size=(3,3),padding=\"same\"))\n",
        "    vgg19.add(Activation('relu'))\n",
        "    vgg19.add(BatchNormalization())\n",
        "    #layer2 16*16*64\n",
        "    vgg19.add(Convolution2D(filters=64,kernel_size=(3,3),padding=\"same\"))\n",
        "    vgg19.add(Activation('relu'))\n",
        "    vgg19.add(MaxPooling2D(pool_size=(2, 2),strides=(2,2)))\n",
        "    vgg19.add(BatchNormalization())\n",
        "\n",
        "    #BLOCK2\n",
        "    #layer3 16*16*128\n",
        "    vgg19.add(Convolution2D(filters=128, kernel_size=(3,3), padding=\"same\"))\n",
        "    vgg19.add(Activation('relu'))\n",
        "    vgg19.add(BatchNormalization())\n",
        "    #layer4 8*8*128\n",
        "    vgg19.add(Convolution2D(filters=128, kernel_size=(3,3), padding=\"same\",))\n",
        "    vgg19.add(Activation('relu'))\n",
        "    vgg19.add(MaxPooling2D(pool_size=(2,2),strides=(2,2)))\n",
        "    vgg19.add(BatchNormalization())\n",
        "\n",
        "    #BLOCK3\n",
        "    #layer5 8*8*256\n",
        "    vgg19.add(Convolution2D(filters=256, kernel_size=(3,3), padding=\"same\"))\n",
        "    vgg19.add(Activation('relu'))\n",
        "    vgg19.add(BatchNormalization())\n",
        "    #layer6 8*8*256\n",
        "    vgg19.add(Convolution2D(filters=256, kernel_size=(3,3), padding=\"same\"))\n",
        "    vgg19.add(Activation('relu'))\n",
        "    vgg19.add(BatchNormalization())\n",
        "    #layer7 8*8*256\n",
        "    vgg19.add(Convolution2D(filters=256, kernel_size=(3,3), padding=\"same\"))\n",
        "    vgg19.add(Activation('relu'))\n",
        "    vgg19.add(BatchNormalization())\n",
        "    #layer8 4*4*256\n",
        "    vgg19.add(Convolution2D(filters=256, kernel_size=(3,3), padding=\"same\"))\n",
        "    vgg19.add(Activation('relu'))\n",
        "    vgg19.add(MaxPooling2D(pool_size=(2,2),strides=(2,2)))\n",
        "    vgg19.add(BatchNormalization())\n",
        "\n",
        "    #BLOCK4\n",
        "    #layer8 4*4*512\n",
        "    vgg19.add(Convolution2D(filters=512, kernel_size=(3,3), padding=\"same\"))\n",
        "    vgg19.add(Activation('relu'))\n",
        "    vgg19.add(BatchNormalization())\n",
        "    #layer9 4*4*512\n",
        "    vgg19.add(Convolution2D(filters=512, kernel_size=(3,3), padding=\"same\"))\n",
        "    vgg19.add(Activation('relu'))\n",
        "    vgg19.add(BatchNormalization())\n",
        "    #layer10 4*4*512\n",
        "    vgg19.add(Convolution2D(filters=512, kernel_size=(3,3), padding=\"same\"))\n",
        "    vgg19.add(Activation('relu'))\n",
        "    vgg19.add(BatchNormalization())\n",
        "    #layer11 2*2*512\n",
        "    vgg19.add(Convolution2D(filters=512, kernel_size=(3,3), padding=\"same\"))\n",
        "    vgg19.add(Activation('relu'))\n",
        "    vgg19.add(MaxPooling2D(pool_size=(2,2),strides=(2,2)))\n",
        "    vgg19.add(BatchNormalization())\n",
        "\n",
        "    #BLOCK5\n",
        "    #layer11 2*2*512\n",
        "    vgg19.add(Convolution2D(filters=512, kernel_size=(3,3), padding=\"same\"))\n",
        "    vgg19.add(Activation('relu'))\n",
        "    vgg19.add(BatchNormalization())\n",
        "    #layer12 2*2*512\n",
        "    vgg19.add(Convolution2D(filters=512, kernel_size=(3,3), padding=\"same\"))  \n",
        "    vgg19.add(Activation('relu')) \n",
        "    vgg19.add(BatchNormalization())    \n",
        "    #layer13 2*2*512\n",
        "    vgg19.add(Convolution2D(filters=512, kernel_size=(3,3), padding=\"same\"))  \n",
        "    vgg19.add(Activation('relu')) \n",
        "    vgg19.add(BatchNormalization())    \n",
        "    #layer13 1*1*512\n",
        "    vgg19.add(Convolution2D(filters=512, kernel_size=(3,3), padding=\"same\"))\n",
        "    vgg19.add(Activation('relu'))\n",
        "    vgg19.add(MaxPooling2D(pool_size=(2,2),strides=(2,2)))\n",
        "    vgg19.add(BatchNormalization())\n",
        "\n",
        "    # seventh block (classifier)\n",
        "    #layer14 4096\n",
        "    vgg19.add(Flatten())\n",
        "    vgg19.add(Dense(units=4096))\n",
        "    vgg19.add(Activation('relu')) \n",
        "    vgg19.add(BatchNormalization())\n",
        "    vgg19.add(Dropout(0.5))\n",
        "    #layer15 4096\n",
        "    vgg19.add(Dense(units=4096))\n",
        "    vgg19.add(Activation('relu')) \n",
        "    vgg19.add(BatchNormalization())\n",
        "    vgg19.add(Dropout(0.5))\n",
        "    #layer16 1000\n",
        "    vgg19.add(Dense(units=1000))\n",
        "    vgg19.add(Activation('relu'))\n",
        "    vgg19.add(BatchNormalization())\n",
        "    vgg19.add(Dropout(0.5)) \n",
        "\n",
        "    vgg19.add(Dense(2, activation=\"softmax\"))\n",
        "\n",
        "    return vgg19"
      ]
    },
    {
      "cell_type": "code",
      "execution_count": 11,
      "metadata": {
        "colab": {
          "base_uri": "https://localhost:8080/"
        },
        "id": "pPSlHYE8cD_c",
        "outputId": "aa607b80-9c0a-418c-8463-a5d8df6b8d65"
      },
      "outputs": [
        {
          "output_type": "stream",
          "name": "stdout",
          "text": [
            "Model: \"sequential\"\n",
            "_________________________________________________________________\n",
            " Layer (type)                Output Shape              Param #   \n",
            "=================================================================\n",
            " conv2d (Conv2D)             (None, 64, 64, 64)        640       \n",
            "                                                                 \n",
            " activation (Activation)     (None, 64, 64, 64)        0         \n",
            "                                                                 \n",
            " batch_normalization (BatchN  (None, 64, 64, 64)       256       \n",
            " ormalization)                                                   \n",
            "                                                                 \n",
            " conv2d_1 (Conv2D)           (None, 64, 64, 64)        36928     \n",
            "                                                                 \n",
            " activation_1 (Activation)   (None, 64, 64, 64)        0         \n",
            "                                                                 \n",
            " max_pooling2d (MaxPooling2D  (None, 32, 32, 64)       0         \n",
            " )                                                               \n",
            "                                                                 \n",
            " batch_normalization_1 (Batc  (None, 32, 32, 64)       256       \n",
            " hNormalization)                                                 \n",
            "                                                                 \n",
            " conv2d_2 (Conv2D)           (None, 32, 32, 128)       73856     \n",
            "                                                                 \n",
            " activation_2 (Activation)   (None, 32, 32, 128)       0         \n",
            "                                                                 \n",
            " batch_normalization_2 (Batc  (None, 32, 32, 128)      512       \n",
            " hNormalization)                                                 \n",
            "                                                                 \n",
            " conv2d_3 (Conv2D)           (None, 32, 32, 128)       147584    \n",
            "                                                                 \n",
            " activation_3 (Activation)   (None, 32, 32, 128)       0         \n",
            "                                                                 \n",
            " max_pooling2d_1 (MaxPooling  (None, 16, 16, 128)      0         \n",
            " 2D)                                                             \n",
            "                                                                 \n",
            " batch_normalization_3 (Batc  (None, 16, 16, 128)      512       \n",
            " hNormalization)                                                 \n",
            "                                                                 \n",
            " conv2d_4 (Conv2D)           (None, 16, 16, 256)       295168    \n",
            "                                                                 \n",
            " activation_4 (Activation)   (None, 16, 16, 256)       0         \n",
            "                                                                 \n",
            " batch_normalization_4 (Batc  (None, 16, 16, 256)      1024      \n",
            " hNormalization)                                                 \n",
            "                                                                 \n",
            " conv2d_5 (Conv2D)           (None, 16, 16, 256)       590080    \n",
            "                                                                 \n",
            " activation_5 (Activation)   (None, 16, 16, 256)       0         \n",
            "                                                                 \n",
            " batch_normalization_5 (Batc  (None, 16, 16, 256)      1024      \n",
            " hNormalization)                                                 \n",
            "                                                                 \n",
            " conv2d_6 (Conv2D)           (None, 16, 16, 256)       590080    \n",
            "                                                                 \n",
            " activation_6 (Activation)   (None, 16, 16, 256)       0         \n",
            "                                                                 \n",
            " batch_normalization_6 (Batc  (None, 16, 16, 256)      1024      \n",
            " hNormalization)                                                 \n",
            "                                                                 \n",
            " conv2d_7 (Conv2D)           (None, 16, 16, 256)       590080    \n",
            "                                                                 \n",
            " activation_7 (Activation)   (None, 16, 16, 256)       0         \n",
            "                                                                 \n",
            " max_pooling2d_2 (MaxPooling  (None, 8, 8, 256)        0         \n",
            " 2D)                                                             \n",
            "                                                                 \n",
            " batch_normalization_7 (Batc  (None, 8, 8, 256)        1024      \n",
            " hNormalization)                                                 \n",
            "                                                                 \n",
            " conv2d_8 (Conv2D)           (None, 8, 8, 512)         1180160   \n",
            "                                                                 \n",
            " activation_8 (Activation)   (None, 8, 8, 512)         0         \n",
            "                                                                 \n",
            " batch_normalization_8 (Batc  (None, 8, 8, 512)        2048      \n",
            " hNormalization)                                                 \n",
            "                                                                 \n",
            " conv2d_9 (Conv2D)           (None, 8, 8, 512)         2359808   \n",
            "                                                                 \n",
            " activation_9 (Activation)   (None, 8, 8, 512)         0         \n",
            "                                                                 \n",
            " batch_normalization_9 (Batc  (None, 8, 8, 512)        2048      \n",
            " hNormalization)                                                 \n",
            "                                                                 \n",
            " conv2d_10 (Conv2D)          (None, 8, 8, 512)         2359808   \n",
            "                                                                 \n",
            " activation_10 (Activation)  (None, 8, 8, 512)         0         \n",
            "                                                                 \n",
            " batch_normalization_10 (Bat  (None, 8, 8, 512)        2048      \n",
            " chNormalization)                                                \n",
            "                                                                 \n",
            " conv2d_11 (Conv2D)          (None, 8, 8, 512)         2359808   \n",
            "                                                                 \n",
            " activation_11 (Activation)  (None, 8, 8, 512)         0         \n",
            "                                                                 \n",
            " max_pooling2d_3 (MaxPooling  (None, 4, 4, 512)        0         \n",
            " 2D)                                                             \n",
            "                                                                 \n",
            " batch_normalization_11 (Bat  (None, 4, 4, 512)        2048      \n",
            " chNormalization)                                                \n",
            "                                                                 \n",
            " conv2d_12 (Conv2D)          (None, 4, 4, 512)         2359808   \n",
            "                                                                 \n",
            " activation_12 (Activation)  (None, 4, 4, 512)         0         \n",
            "                                                                 \n",
            " batch_normalization_12 (Bat  (None, 4, 4, 512)        2048      \n",
            " chNormalization)                                                \n",
            "                                                                 \n",
            " conv2d_13 (Conv2D)          (None, 4, 4, 512)         2359808   \n",
            "                                                                 \n",
            " activation_13 (Activation)  (None, 4, 4, 512)         0         \n",
            "                                                                 \n",
            " batch_normalization_13 (Bat  (None, 4, 4, 512)        2048      \n",
            " chNormalization)                                                \n",
            "                                                                 \n",
            " conv2d_14 (Conv2D)          (None, 4, 4, 512)         2359808   \n",
            "                                                                 \n",
            " activation_14 (Activation)  (None, 4, 4, 512)         0         \n",
            "                                                                 \n",
            " batch_normalization_14 (Bat  (None, 4, 4, 512)        2048      \n",
            " chNormalization)                                                \n",
            "                                                                 \n",
            " conv2d_15 (Conv2D)          (None, 4, 4, 512)         2359808   \n",
            "                                                                 \n",
            " activation_15 (Activation)  (None, 4, 4, 512)         0         \n",
            "                                                                 \n",
            " max_pooling2d_4 (MaxPooling  (None, 2, 2, 512)        0         \n",
            " 2D)                                                             \n",
            "                                                                 \n",
            " batch_normalization_15 (Bat  (None, 2, 2, 512)        2048      \n",
            " chNormalization)                                                \n",
            "                                                                 \n",
            " flatten (Flatten)           (None, 2048)              0         \n",
            "                                                                 \n",
            " dense (Dense)               (None, 4096)              8392704   \n",
            "                                                                 \n",
            " activation_16 (Activation)  (None, 4096)              0         \n",
            "                                                                 \n",
            " batch_normalization_16 (Bat  (None, 4096)             16384     \n",
            " chNormalization)                                                \n",
            "                                                                 \n",
            " dropout (Dropout)           (None, 4096)              0         \n",
            "                                                                 \n",
            " dense_1 (Dense)             (None, 4096)              16781312  \n",
            "                                                                 \n",
            " activation_17 (Activation)  (None, 4096)              0         \n",
            "                                                                 \n",
            " batch_normalization_17 (Bat  (None, 4096)             16384     \n",
            " chNormalization)                                                \n",
            "                                                                 \n",
            " dropout_1 (Dropout)         (None, 4096)              0         \n",
            "                                                                 \n",
            " dense_2 (Dense)             (None, 1000)              4097000   \n",
            "                                                                 \n",
            " activation_18 (Activation)  (None, 1000)              0         \n",
            "                                                                 \n",
            " batch_normalization_18 (Bat  (None, 1000)             4000      \n",
            " chNormalization)                                                \n",
            "                                                                 \n",
            " dropout_2 (Dropout)         (None, 1000)              0         \n",
            "                                                                 \n",
            " dense_3 (Dense)             (None, 2)                 2002      \n",
            "                                                                 \n",
            "=================================================================\n",
            "Total params: 49,355,034\n",
            "Trainable params: 49,325,642\n",
            "Non-trainable params: 29,392\n",
            "_________________________________________________________________\n"
          ]
        }
      ],
      "source": [
        "num_classes=2\n",
        "vgg19=vgg19(num_classes)\n",
        "vgg19.summary()"
      ]
    },
    {
      "cell_type": "code",
      "execution_count": 12,
      "metadata": {
        "colab": {
          "base_uri": "https://localhost:8080/"
        },
        "id": "vfmkSFf7l90F",
        "outputId": "4f061402-8f5e-46fb-a702-3157fa1d938b"
      },
      "outputs": [
        {
          "output_type": "stream",
          "name": "stdout",
          "text": [
            "Model: \"sequential\"\n",
            "_________________________________________________________________\n",
            " Layer (type)                Output Shape              Param #   \n",
            "=================================================================\n",
            " conv2d (Conv2D)             (None, 64, 64, 64)        640       \n",
            "                                                                 \n",
            " activation (Activation)     (None, 64, 64, 64)        0         \n",
            "                                                                 \n",
            " batch_normalization (BatchN  (None, 64, 64, 64)       256       \n",
            " ormalization)                                                   \n",
            "                                                                 \n",
            " conv2d_1 (Conv2D)           (None, 64, 64, 64)        36928     \n",
            "                                                                 \n",
            " activation_1 (Activation)   (None, 64, 64, 64)        0         \n",
            "                                                                 \n",
            " max_pooling2d (MaxPooling2D  (None, 32, 32, 64)       0         \n",
            " )                                                               \n",
            "                                                                 \n",
            " batch_normalization_1 (Batc  (None, 32, 32, 64)       256       \n",
            " hNormalization)                                                 \n",
            "                                                                 \n",
            " conv2d_2 (Conv2D)           (None, 32, 32, 128)       73856     \n",
            "                                                                 \n",
            " activation_2 (Activation)   (None, 32, 32, 128)       0         \n",
            "                                                                 \n",
            " batch_normalization_2 (Batc  (None, 32, 32, 128)      512       \n",
            " hNormalization)                                                 \n",
            "                                                                 \n",
            " conv2d_3 (Conv2D)           (None, 32, 32, 128)       147584    \n",
            "                                                                 \n",
            " activation_3 (Activation)   (None, 32, 32, 128)       0         \n",
            "                                                                 \n",
            " max_pooling2d_1 (MaxPooling  (None, 16, 16, 128)      0         \n",
            " 2D)                                                             \n",
            "                                                                 \n",
            " batch_normalization_3 (Batc  (None, 16, 16, 128)      512       \n",
            " hNormalization)                                                 \n",
            "                                                                 \n",
            " conv2d_4 (Conv2D)           (None, 16, 16, 256)       295168    \n",
            "                                                                 \n",
            " activation_4 (Activation)   (None, 16, 16, 256)       0         \n",
            "                                                                 \n",
            " batch_normalization_4 (Batc  (None, 16, 16, 256)      1024      \n",
            " hNormalization)                                                 \n",
            "                                                                 \n",
            " conv2d_5 (Conv2D)           (None, 16, 16, 256)       590080    \n",
            "                                                                 \n",
            " activation_5 (Activation)   (None, 16, 16, 256)       0         \n",
            "                                                                 \n",
            " batch_normalization_5 (Batc  (None, 16, 16, 256)      1024      \n",
            " hNormalization)                                                 \n",
            "                                                                 \n",
            " conv2d_6 (Conv2D)           (None, 16, 16, 256)       590080    \n",
            "                                                                 \n",
            " activation_6 (Activation)   (None, 16, 16, 256)       0         \n",
            "                                                                 \n",
            " batch_normalization_6 (Batc  (None, 16, 16, 256)      1024      \n",
            " hNormalization)                                                 \n",
            "                                                                 \n",
            " conv2d_7 (Conv2D)           (None, 16, 16, 256)       590080    \n",
            "                                                                 \n",
            " activation_7 (Activation)   (None, 16, 16, 256)       0         \n",
            "                                                                 \n",
            " max_pooling2d_2 (MaxPooling  (None, 8, 8, 256)        0         \n",
            " 2D)                                                             \n",
            "                                                                 \n",
            " batch_normalization_7 (Batc  (None, 8, 8, 256)        1024      \n",
            " hNormalization)                                                 \n",
            "                                                                 \n",
            " conv2d_8 (Conv2D)           (None, 8, 8, 512)         1180160   \n",
            "                                                                 \n",
            " activation_8 (Activation)   (None, 8, 8, 512)         0         \n",
            "                                                                 \n",
            " batch_normalization_8 (Batc  (None, 8, 8, 512)        2048      \n",
            " hNormalization)                                                 \n",
            "                                                                 \n",
            " conv2d_9 (Conv2D)           (None, 8, 8, 512)         2359808   \n",
            "                                                                 \n",
            " activation_9 (Activation)   (None, 8, 8, 512)         0         \n",
            "                                                                 \n",
            " batch_normalization_9 (Batc  (None, 8, 8, 512)        2048      \n",
            " hNormalization)                                                 \n",
            "                                                                 \n",
            " conv2d_10 (Conv2D)          (None, 8, 8, 512)         2359808   \n",
            "                                                                 \n",
            " activation_10 (Activation)  (None, 8, 8, 512)         0         \n",
            "                                                                 \n",
            " batch_normalization_10 (Bat  (None, 8, 8, 512)        2048      \n",
            " chNormalization)                                                \n",
            "                                                                 \n",
            " conv2d_11 (Conv2D)          (None, 8, 8, 512)         2359808   \n",
            "                                                                 \n",
            " activation_11 (Activation)  (None, 8, 8, 512)         0         \n",
            "                                                                 \n",
            " max_pooling2d_3 (MaxPooling  (None, 4, 4, 512)        0         \n",
            " 2D)                                                             \n",
            "                                                                 \n",
            " batch_normalization_11 (Bat  (None, 4, 4, 512)        2048      \n",
            " chNormalization)                                                \n",
            "                                                                 \n",
            " conv2d_12 (Conv2D)          (None, 4, 4, 512)         2359808   \n",
            "                                                                 \n",
            " activation_12 (Activation)  (None, 4, 4, 512)         0         \n",
            "                                                                 \n",
            " batch_normalization_12 (Bat  (None, 4, 4, 512)        2048      \n",
            " chNormalization)                                                \n",
            "                                                                 \n",
            " conv2d_13 (Conv2D)          (None, 4, 4, 512)         2359808   \n",
            "                                                                 \n",
            " activation_13 (Activation)  (None, 4, 4, 512)         0         \n",
            "                                                                 \n",
            " batch_normalization_13 (Bat  (None, 4, 4, 512)        2048      \n",
            " chNormalization)                                                \n",
            "                                                                 \n",
            " conv2d_14 (Conv2D)          (None, 4, 4, 512)         2359808   \n",
            "                                                                 \n",
            " activation_14 (Activation)  (None, 4, 4, 512)         0         \n",
            "                                                                 \n",
            " batch_normalization_14 (Bat  (None, 4, 4, 512)        2048      \n",
            " chNormalization)                                                \n",
            "                                                                 \n",
            " conv2d_15 (Conv2D)          (None, 4, 4, 512)         2359808   \n",
            "                                                                 \n",
            " activation_15 (Activation)  (None, 4, 4, 512)         0         \n",
            "                                                                 \n",
            " max_pooling2d_4 (MaxPooling  (None, 2, 2, 512)        0         \n",
            " 2D)                                                             \n",
            "                                                                 \n",
            " batch_normalization_15 (Bat  (None, 2, 2, 512)        2048      \n",
            " chNormalization)                                                \n",
            "                                                                 \n",
            " flatten (Flatten)           (None, 2048)              0         \n",
            "                                                                 \n",
            " dense (Dense)               (None, 4096)              8392704   \n",
            "                                                                 \n",
            " activation_16 (Activation)  (None, 4096)              0         \n",
            "                                                                 \n",
            " batch_normalization_16 (Bat  (None, 4096)             16384     \n",
            " chNormalization)                                                \n",
            "                                                                 \n",
            " dropout (Dropout)           (None, 4096)              0         \n",
            "                                                                 \n",
            " dense_1 (Dense)             (None, 4096)              16781312  \n"
          ]
        },
        {
          "output_type": "stream",
          "name": "stderr",
          "text": [
            "/usr/local/lib/python3.7/dist-packages/keras/optimizer_v2/rmsprop.py:130: UserWarning: The `lr` argument is deprecated, use `learning_rate` instead.\n",
            "  super(RMSprop, self).__init__(name, **kwargs)\n"
          ]
        },
        {
          "output_type": "stream",
          "name": "stdout",
          "text": [
            "                                                                 \n",
            " activation_17 (Activation)  (None, 4096)              0         \n",
            "                                                                 \n",
            " batch_normalization_17 (Bat  (None, 4096)             16384     \n",
            " chNormalization)                                                \n",
            "                                                                 \n",
            " dropout_1 (Dropout)         (None, 4096)              0         \n",
            "                                                                 \n",
            " dense_2 (Dense)             (None, 1000)              4097000   \n",
            "                                                                 \n",
            " activation_18 (Activation)  (None, 1000)              0         \n",
            "                                                                 \n",
            " batch_normalization_18 (Bat  (None, 1000)             4000      \n",
            " chNormalization)                                                \n",
            "                                                                 \n",
            " dropout_2 (Dropout)         (None, 1000)              0         \n",
            "                                                                 \n",
            " dense_3 (Dense)             (None, 2)                 2002      \n",
            "                                                                 \n",
            "=================================================================\n",
            "Total params: 49,355,034\n",
            "Trainable params: 49,325,642\n",
            "Non-trainable params: 29,392\n",
            "_________________________________________________________________\n"
          ]
        }
      ],
      "source": [
        "#setting hyperparameter, menggunakan Adam\n",
        "opt = RMSprop(lr=0.1)\n",
        "vgg19.compile(loss='categorical_crossentropy', optimizer=opt, metrics=['accuracy'])\n",
        "vgg19.summary()"
      ]
    },
    {
      "cell_type": "code",
      "execution_count": 13,
      "metadata": {
        "colab": {
          "base_uri": "https://localhost:8080/"
        },
        "id": "2MIF8tBZoSih",
        "outputId": "962e6946-284f-4d81-b697-7de196b24869"
      },
      "outputs": [
        {
          "output_type": "stream",
          "name": "stdout",
          "text": [
            "Epoch 1/30\n",
            "159/159 [==============================] - 29s 77ms/step - loss: 15.1620 - accuracy: 0.5146 - val_loss: 525656.0000 - val_accuracy: 0.5142\n",
            "Epoch 2/30\n",
            "159/159 [==============================] - 11s 66ms/step - loss: 7.7098 - accuracy: 0.5229 - val_loss: 26502.1680 - val_accuracy: 0.4858\n",
            "Epoch 3/30\n",
            "159/159 [==============================] - 11s 66ms/step - loss: 6.5788 - accuracy: 0.5474 - val_loss: 26375.2461 - val_accuracy: 0.4858\n",
            "Epoch 4/30\n",
            "159/159 [==============================] - 10s 66ms/step - loss: 6.5204 - accuracy: 0.7464 - val_loss: 10818.5352 - val_accuracy: 0.4858\n",
            "Epoch 5/30\n",
            "159/159 [==============================] - 10s 66ms/step - loss: 5.7486 - accuracy: 0.7946 - val_loss: 20541.3652 - val_accuracy: 0.5142\n",
            "Epoch 6/30\n",
            "159/159 [==============================] - 10s 66ms/step - loss: 6.3451 - accuracy: 0.8136 - val_loss: 476392384.0000 - val_accuracy: 0.4858\n",
            "Epoch 7/30\n",
            "159/159 [==============================] - 11s 66ms/step - loss: 6.1228 - accuracy: 0.8302 - val_loss: 1018785.4375 - val_accuracy: 0.5142\n",
            "Epoch 8/30\n",
            "159/159 [==============================] - 11s 66ms/step - loss: 6.7951 - accuracy: 0.8440 - val_loss: 37530330202112.0000 - val_accuracy: 0.5142\n",
            "Epoch 9/30\n",
            "159/159 [==============================] - 11s 66ms/step - loss: 6.3920 - accuracy: 0.8598 - val_loss: 68399.9844 - val_accuracy: 0.2271\n",
            "Epoch 10/30\n",
            "159/159 [==============================] - 11s 66ms/step - loss: 6.5213 - accuracy: 0.8626 - val_loss: 32673391181824.0000 - val_accuracy: 0.5189\n",
            "Epoch 11/30\n",
            "159/159 [==============================] - 11s 67ms/step - loss: 6.5990 - accuracy: 0.8633 - val_loss: 2266709360640.0000 - val_accuracy: 0.7997\n",
            "Epoch 12/30\n",
            "159/159 [==============================] - 11s 68ms/step - loss: 7.5508 - accuracy: 0.8712 - val_loss: 30074034.0000 - val_accuracy: 0.5142\n",
            "Epoch 13/30\n",
            "159/159 [==============================] - 11s 67ms/step - loss: 6.6866 - accuracy: 0.8776 - val_loss: 1329073066646401380777984.0000 - val_accuracy: 0.4858\n",
            "Epoch 14/30\n",
            "159/159 [==============================] - 11s 67ms/step - loss: 7.5618 - accuracy: 0.8799 - val_loss: 50107785412608.0000 - val_accuracy: 0.4858\n",
            "Epoch 15/30\n",
            "159/159 [==============================] - 11s 67ms/step - loss: 7.5366 - accuracy: 0.8823 - val_loss: 167700180477576850670878720.0000 - val_accuracy: 0.4858\n",
            "Epoch 16/30\n",
            "159/159 [==============================] - 11s 67ms/step - loss: 7.0589 - accuracy: 0.8882 - val_loss: 650160073674990204148179909214208.0000 - val_accuracy: 0.4858\n",
            "Epoch 17/30\n",
            "159/159 [==============================] - 11s 68ms/step - loss: 7.1967 - accuracy: 0.8859 - val_loss: 67.7349 - val_accuracy: 0.5000\n",
            "Epoch 18/30\n",
            "159/159 [==============================] - 11s 68ms/step - loss: 7.5631 - accuracy: 0.8918 - val_loss: 169581278557582097645568.0000 - val_accuracy: 0.5142\n",
            "Epoch 19/30\n",
            "159/159 [==============================] - 11s 68ms/step - loss: 6.7453 - accuracy: 0.9021 - val_loss: 3439214378126671166562943165792256.0000 - val_accuracy: 0.5142\n",
            "Epoch 20/30\n",
            "159/159 [==============================] - 11s 69ms/step - loss: 7.3758 - accuracy: 0.9009 - val_loss: 24451127296.0000 - val_accuracy: 0.3375\n",
            "Epoch 21/30\n",
            "159/159 [==============================] - 11s 68ms/step - loss: 6.8574 - accuracy: 0.9024 - val_loss: 1139126427409581935976401229316096.0000 - val_accuracy: 0.5142\n",
            "Epoch 22/30\n",
            "159/159 [==============================] - 11s 68ms/step - loss: 7.5478 - accuracy: 0.9013 - val_loss: 1611074200454097902475446839148544.0000 - val_accuracy: 0.1483\n",
            "Epoch 23/30\n",
            "159/159 [==============================] - 11s 68ms/step - loss: 6.4981 - accuracy: 0.9036 - val_loss: 36103172128768.0000 - val_accuracy: 0.6388\n",
            "Epoch 24/30\n",
            "159/159 [==============================] - 11s 68ms/step - loss: 7.6599 - accuracy: 0.9052 - val_loss: 2439793176613807405924352.0000 - val_accuracy: 0.4858\n",
            "Epoch 25/30\n",
            "159/159 [==============================] - 11s 68ms/step - loss: 7.0153 - accuracy: 0.9143 - val_loss: nan - val_accuracy: 0.4858\n",
            "Epoch 26/30\n",
            "159/159 [==============================] - 11s 68ms/step - loss: 7.3542 - accuracy: 0.9182 - val_loss: nan - val_accuracy: 0.6372\n",
            "Epoch 27/30\n",
            "159/159 [==============================] - 11s 68ms/step - loss: 7.2507 - accuracy: 0.9210 - val_loss: 34024896.0000 - val_accuracy: 0.0647\n",
            "Epoch 28/30\n",
            "159/159 [==============================] - 11s 68ms/step - loss: 7.7556 - accuracy: 0.9222 - val_loss: 1318869760.0000 - val_accuracy: 0.4905\n",
            "Epoch 29/30\n",
            "159/159 [==============================] - 11s 69ms/step - loss: 7.9092 - accuracy: 0.9269 - val_loss: 9812310016.0000 - val_accuracy: 0.4842\n",
            "Epoch 30/30\n",
            "159/159 [==============================] - 11s 68ms/step - loss: 8.2998 - accuracy: 0.9167 - val_loss: 26501456.0000 - val_accuracy: 0.6073\n"
          ]
        }
      ],
      "source": [
        "#training data\n",
        "H = vgg19.fit(trainX, trainY, validation_data=(testX, testY), epochs=30, batch_size=16)"
      ]
    },
    {
      "cell_type": "code",
      "execution_count": 14,
      "metadata": {
        "colab": {
          "base_uri": "https://localhost:8080/"
        },
        "id": "_B1Zc9CK76XA",
        "outputId": "054a606e-72d5-4063-ab6b-f014b3d1b512"
      },
      "outputs": [
        {
          "output_type": "stream",
          "name": "stdout",
          "text": [
            "[INFO] evaluating network...\n"
          ]
        }
      ],
      "source": [
        "print(\"[INFO] evaluating network...\")\n",
        "predictions = vgg19.predict(testX, batch_size=16)\n",
        "pred=predictions.argmax(axis=1)\n",
        "testY_argm=testY.argmax(axis=1)\n"
      ]
    },
    {
      "cell_type": "code",
      "execution_count": 15,
      "metadata": {
        "colab": {
          "base_uri": "https://localhost:8080/"
        },
        "id": "H-0h97OO8Lpw",
        "outputId": "e8d7496f-fc5e-4f3b-ab37-1b5e48556fad"
      },
      "outputs": [
        {
          "output_type": "stream",
          "name": "stdout",
          "text": [
            "              precision    recall  f1-score   support\n",
            "\n",
            "      Normal       0.81      0.25      0.38       308\n",
            "   Pneumonia       0.57      0.94      0.71       326\n",
            "\n",
            "    accuracy                           0.61       634\n",
            "   macro avg       0.69      0.60      0.55       634\n",
            "weighted avg       0.69      0.61      0.55       634\n",
            "\n"
          ]
        }
      ],
      "source": [
        "print(classification_report(testY_argm,pred,target_names=lb.classes_))"
      ]
    },
    {
      "cell_type": "code",
      "execution_count": 16,
      "metadata": {
        "colab": {
          "base_uri": "https://localhost:8080/"
        },
        "id": "bu_rtCRz8OGU",
        "outputId": "f053434b-d920-481b-947e-9d48e2ae68bd"
      },
      "outputs": [
        {
          "output_type": "stream",
          "name": "stdout",
          "text": [
            "20/20 [==============================] - 2s 55ms/step - loss: 26501386.0000 - accuracy: 0.6073\n",
            "Test Loss 26501386.0000, accuracy 60.73%\n"
          ]
        }
      ],
      "source": [
        "test_score = vgg19.evaluate(testX, testY) \n",
        "print(\"Test Loss {:.4f}, accuracy {:.2f}%\".format(test_score[0], test_score[1] * 100))"
      ]
    },
    {
      "cell_type": "code",
      "execution_count": 17,
      "metadata": {
        "id": "UMD619SS9sja"
      },
      "outputs": [],
      "source": [
        "from sklearn.metrics import confusion_matrix\n",
        "import itertools\n",
        "\n",
        "def plot_confusion_matrix(cm, classes, normalize=False, title='Confusion matrix', cmap='Blues'):\n",
        "  if normalize:\n",
        "     cm = cm.astype('float') / cm.sum(axis=1)[:, np.newaxis]\n",
        "     print(\"Normalized confusion matrix\")\n",
        "  else:\n",
        "     print('Confusion matrix, without normalization')\n",
        "  print(cm)\n",
        "  plt.imshow(cm, interpolation='nearest', cmap=cmap)\n",
        "  plt.title(title)\n",
        "  plt.colorbar()\n",
        "  tick_marks = np.arange(len(classes))\n",
        "  plt.xticks(tick_marks, classes, rotation=45)\n",
        "  plt.yticks(tick_marks, classes)\n",
        "  fmt = '.2f' if normalize else 'd'\n",
        "  thresh = cm.max() / 2.\n",
        "  for i, j in itertools.product(range(cm.shape[0]), range(cm.shape[1])):\n",
        "      plt.text(j, i, format(cm[i, j], fmt), horizontalalignment=\"center\", color=\"white\" if cm[i, j] > thresh else \"black\")\n",
        "  plt.ylabel('True label')\n",
        "  plt.xlabel('Predicted label')\n",
        "  plt.tight_layout()"
      ]
    },
    {
      "cell_type": "code",
      "execution_count": 18,
      "metadata": {
        "colab": {
          "base_uri": "https://localhost:8080/",
          "height": 1000
        },
        "id": "kRdOSf5d9zSw",
        "outputId": "9bc3ba5d-1186-4312-e640-08d98bec2515"
      },
      "outputs": [
        {
          "output_type": "stream",
          "name": "stdout",
          "text": [
            "Normalized confusion matrix\n",
            "[[0.25 0.75]\n",
            " [0.06 0.94]]\n"
          ]
        },
        {
          "output_type": "display_data",
          "data": {
            "text/plain": [
              "<Figure size 432x288 with 2 Axes>"
            ],
            "image/png": "[encoded data removed]"
          },
          "metadata": {
            "needs_background": "light"
          }
        },
        {
          "output_type": "stream",
          "name": "stdout",
          "text": [
            "Confusion matrix, without normalization\n",
            "[[ 77 231]\n",
            " [ 18 308]]\n"
          ]
        },
        {
          "output_type": "display_data",
          "data": {
            "text/plain": [
              "<Figure size 432x288 with 2 Axes>"
            ],
            "image/png": "[encoded data removed]"
          },
          "metadata": {
            "needs_background": "light"
          }
        },
        {
          "output_type": "display_data",
          "data": {
            "text/plain": [
              "<Figure size 432x288 with 1 Axes>"
            ],
            "image/png": "[encoded data removed]"
          },
          "metadata": {
            "needs_background": "light"
          }
        },
        {
          "output_type": "display_data",
          "data": {
            "text/plain": [
              "<Figure size 432x288 with 1 Axes>"
            ],
            "image/png": "[encoded data removed]"
          },
          "metadata": {
            "needs_background": "light"
          }
        }
      ],
      "source": [
        "cnf_matrix = confusion_matrix(testY_argm, pred)\n",
        "np.set_printoptions(precision=2)\n",
        "\n",
        "# Plot non/normalized confusion matrix\n",
        "plt.figure()\n",
        "plot_confusion_matrix(cnf_matrix,\n",
        "classes=lb.classes_, normalize=True)\n",
        "plt.show()\n",
        "\n",
        "plt.figure()\n",
        "plot_confusion_matrix(cnf_matrix,\n",
        "classes=lb.classes_, normalize=False)\n",
        "plt.show()\n",
        "\n",
        "f, ax = plt.subplots()\n",
        "ax.plot([None] + H.history['accuracy'], 'o-')\n",
        "ax.plot([None] + H.history['val_accuracy'], 'x-')\n",
        "\n",
        "ax.legend(['Train acc', 'Validation acc'], loc = 0)\n",
        "ax.set_title('Training/Validation acc per Epoch')\n",
        "ax.set_xlabel('Epoch')\n",
        "ax.set_ylabel('acc')\n",
        "plt.grid(True)\n",
        "\n",
        "f, ax = plt.subplots()\n",
        "ax.plot([None] + H.history['loss'], 'o-')\n",
        "ax.plot([None] + H.history['val_loss'], 'x-')\n",
        "ax.legend(['Train Loss', 'Validation Loss'], loc = 0)\n",
        "ax.set_title('Training/Validation Loss per Epoch')\n",
        "ax.set_xlabel('Epoch')\n",
        "ax.set_ylabel('loss')\n",
        "plt.grid(True)"
      ]
    }
  ],
  "metadata": {
    "colab": {
      "name": "pneumonia vgg 19.ipynb",
      "provenance": [],
      "authorship_tag": "ABX9TyPoAxWT5W3dOkjcwsHqVwQV",
      "include_colab_link": true
    },
    "gpuClass": "standard",
    "kernelspec": {
      "display_name": "Python 3",
      "name": "python3"
    },
    "language_info": {
      "name": "python"
    },
    "accelerator": "GPU"
  },
  "nbformat": 4,
  "nbformat_minor": 0
}