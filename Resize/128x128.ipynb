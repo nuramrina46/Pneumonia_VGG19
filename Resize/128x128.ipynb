{
  "cells": [
    {
      "cell_type": "markdown",
      "metadata": {
        "id": "view-in-github",
        "colab_type": "text"
      },
      "source": [
        "<a href=\"https://colab.research.google.com/github/nuramrina46/SkripsiVGG19/blob/main/Resize/128x128.ipynb\" target=\"_parent\"><img src=\"https://colab.research.google.com/assets/colab-badge.svg\" alt=\"Open In Colab\"/></a>"
      ]
    },
    {
      "cell_type": "code",
      "execution_count": 1,
      "metadata": {
        "colab": {
          "base_uri": "https://localhost:8080/"
        },
        "id": "Wna0zLEcso-6",
        "outputId": "144c9c1c-70fe-4dfe-a8a4-30f5fbc0cc64"
      },
      "outputs": [
        {
          "output_type": "stream",
          "name": "stdout",
          "text": [
            "Mounted at /content/drive\n"
          ]
        }
      ],
      "source": [
        "from google.colab import drive\n",
        "drive.mount('/content/drive')"
      ]
    },
    {
      "cell_type": "code",
      "execution_count": 2,
      "metadata": {
        "colab": {
          "base_uri": "https://localhost:8080/"
        },
        "id": "50fhCbZPzlox",
        "outputId": "fc964050-4fb2-4f92-8293-c886e5f18dc3"
      },
      "outputs": [
        {
          "output_type": "stream",
          "name": "stdout",
          "text": [
            "/content/drive/My Drive/Colab Notebooks\n"
          ]
        }
      ],
      "source": [
        "cd /content/drive/My Drive/Colab Notebooks"
      ]
    },
    {
      "cell_type": "code",
      "execution_count": 3,
      "metadata": {
        "colab": {
          "base_uri": "https://localhost:8080/"
        },
        "id": "iOIsOUvTznGe",
        "outputId": "7e34e626-8c4d-458c-e424-58a011d1751e"
      },
      "outputs": [
        {
          "output_type": "stream",
          "name": "stdout",
          "text": [
            "'1000 64.ipynb'              'pneumonia VGG 16 fiX.ipynb'\n",
            "'100 vgg 16.ipynb'           'Pneumonia VGG 19 2.ipynb'\n",
            "'2000 64.ipynb'              'pneumonia vgg 19.ipynb'\n",
            "'Augmentasi_DATA (1).ipynb'  'Salinan_dari_AugmentasiAll (1).ipynb'\n",
            " Augmentasi_DATA.ipynb        Salinan_dari_AugmentasiAll.ipynb\n",
            " \u001b[0m\u001b[01;34mDataset1\u001b[0m/                   'Salinan dari pneumonia vgg 19.ipynb'\n",
            " \u001b[01;34mPNEUAUG\u001b[0m/                     Untitled0.ipynb\n",
            " \u001b[01;34mpneudata\u001b[0m/\n"
          ]
        }
      ],
      "source": [
        "ls"
      ]
    },
    {
      "cell_type": "code",
      "execution_count": 4,
      "metadata": {
        "id": "OAVcnsiZtlJO"
      },
      "outputs": [],
      "source": [
        "from keras.models import Model\n",
        "from keras.models import load_model\n",
        "from keras.models import Sequential\n",
        "from keras.layers.convolutional import Convolution2D\n",
        "from keras.layers.convolutional import MaxPooling2D\n",
        "from keras.layers.convolutional import ZeroPadding2D\n",
        "from keras.layers.core import Activation\n",
        "from keras.layers.core import Flatten\n",
        "from keras.layers.core import Dense\n",
        "from keras.layers.core import Dropout\n",
        "from keras.layers import BatchNormalization\n",
        "from keras import regularizers\n",
        "from keras.preprocessing.image import ImageDataGenerator\n",
        "from tensorflow.keras.optimizers import RMSprop, Adam, SGD\n",
        "from sklearn.preprocessing import LabelBinarizer\n",
        "from sklearn.model_selection import train_test_split\n",
        "from sklearn.metrics import classification_report\n",
        "from PIL import Image\n",
        "from matplotlib import pyplot as plt\n",
        "from imutils import paths\n",
        "import numpy as np\n",
        "import os\n",
        "import cv2"
      ]
    },
    {
      "cell_type": "code",
      "execution_count": 5,
      "metadata": {
        "colab": {
          "base_uri": "https://localhost:8080/"
        },
        "id": "3R5gMMwFQJXR",
        "outputId": "2d140f40-f95e-40a7-ca78-6be25f6f52f5"
      },
      "outputs": [
        {
          "output_type": "stream",
          "name": "stdout",
          "text": [
            "[INFO] loading images...\n"
          ]
        }
      ],
      "source": [
        "print(\"[INFO] loading images...\")\n",
        "imagePaths = paths.list_images(\"Dataset1\")\n",
        "data = []\n",
        "labels = []"
      ]
    },
    {
      "cell_type": "code",
      "execution_count": 6,
      "metadata": {
        "id": "1CJi8Vl1QMbm"
      },
      "outputs": [],
      "source": [
        "for imagePaths in imagePaths:\n",
        "    a = Image.open(imagePaths)\n",
        "    image = np.array(a.resize((128,128))) / 255.0\n",
        "    data.append(image)\n",
        "    \n",
        "    label = imagePaths.split(os.path.sep) [-2]\n",
        "    labels.append(label)"
      ]
    },
    {
      "cell_type": "code",
      "execution_count": 7,
      "metadata": {
        "id": "8ScPugJLRSmE",
        "colab": {
          "base_uri": "https://localhost:8080/"
        },
        "outputId": "1384f80e-5690-4ab9-bc26-412456a0c913"
      },
      "outputs": [
        {
          "output_type": "stream",
          "name": "stdout",
          "text": [
            "(3166, 128, 128, 1)\n"
          ]
        }
      ],
      "source": [
        "temp = np.array(data)\n",
        "temp = np.expand_dims(temp, axis=3)\n",
        "print(temp.shape)"
      ]
    },
    {
      "cell_type": "code",
      "execution_count": 8,
      "metadata": {
        "id": "uU2QZLHjSE-C",
        "colab": {
          "base_uri": "https://localhost:8080/"
        },
        "outputId": "f1af7848-6730-478e-d319-8bb8c518cbb9"
      },
      "outputs": [
        {
          "output_type": "stream",
          "name": "stdout",
          "text": [
            "[[0 1]\n",
            " [0 1]\n",
            " [0 1]\n",
            " ...\n",
            " [1 0]\n",
            " [1 0]\n",
            " [1 0]]\n"
          ]
        }
      ],
      "source": [
        " from sklearn.preprocessing import LabelBinarizer\n",
        "import numpy as np\n",
        "\n",
        "class MyLabelBinarizer(LabelBinarizer):\n",
        "    def transform(self, label):\n",
        "      nilaiy = super().transform(label)\n",
        "      if self.y_type_== 'binary':\n",
        "        return np.hstack((nilaiy, 1-nilaiy))\n",
        "      else:\n",
        "        return nilaiy\n",
        "    def inverse_transform(self, nilaiy, threshold=None):\n",
        "      if self.y_type_ == 'binary':\n",
        "          return super().inverse_transform(nilaiy[:, 0], threshold)\n",
        "      else:\n",
        "          return super().inverse_transform(nilaiy, threshold)\n",
        "\n",
        "lb = MyLabelBinarizer()\n",
        "labels = lb.fit_transform(labels)\n",
        "print(labels)"
      ]
    },
    {
      "cell_type": "code",
      "execution_count": 9,
      "metadata": {
        "id": "EEyTHVkD3ENl",
        "colab": {
          "base_uri": "https://localhost:8080/"
        },
        "outputId": "72ce4d51-3a62-404b-e4b5-202e695138c6"
      },
      "outputs": [
        {
          "output_type": "stream",
          "name": "stdout",
          "text": [
            "(2532, 128, 128)\n",
            "(634, 128, 128)\n"
          ]
        }
      ],
      "source": [
        "(trainX, testX, trainY, testY) = train_test_split(np.array(data), np.array(labels), test_size=0.20)\n",
        "print(trainX.shape)\n",
        "print(testX.shape)"
      ]
    },
    {
      "cell_type": "code",
      "execution_count": 10,
      "metadata": {
        "id": "Mgd9WqsSecaF"
      },
      "outputs": [],
      "source": [
        "def vgg19(num_classes):\n",
        "\n",
        "    vgg19 = Sequential()\n",
        "\n",
        "    #BLOCK1\n",
        "    #layer1 32*32*64\n",
        "    vgg19.add(Convolution2D(input_shape=(128,128,1),filters=64,kernel_size=(3,3),padding=\"same\"))\n",
        "    vgg19.add(Activation('relu'))\n",
        "    vgg19.add(BatchNormalization())\n",
        "    #layer2 16*16*64\n",
        "    vgg19.add(Convolution2D(filters=64,kernel_size=(3,3),padding=\"same\"))\n",
        "    vgg19.add(Activation('relu'))\n",
        "    vgg19.add(MaxPooling2D(pool_size=(2, 2),strides=(2,2)))\n",
        "    vgg19.add(BatchNormalization())\n",
        "\n",
        "    #BLOCK2\n",
        "    #layer3 16*16*128\n",
        "    vgg19.add(Convolution2D(filters=128, kernel_size=(3,3), padding=\"same\"))\n",
        "    vgg19.add(Activation('relu'))\n",
        "    vgg19.add(BatchNormalization())\n",
        "    #layer4 8*8*128\n",
        "    vgg19.add(Convolution2D(filters=128, kernel_size=(3,3), padding=\"same\",))\n",
        "    vgg19.add(Activation('relu'))\n",
        "    vgg19.add(MaxPooling2D(pool_size=(2,2),strides=(2,2)))\n",
        "    vgg19.add(BatchNormalization())\n",
        "\n",
        "    #BLOCK3\n",
        "    #layer5 8*8*256\n",
        "    vgg19.add(Convolution2D(filters=256, kernel_size=(3,3), padding=\"same\"))\n",
        "    vgg19.add(Activation('relu'))\n",
        "    vgg19.add(BatchNormalization())\n",
        "    #layer6 8*8*256\n",
        "    vgg19.add(Convolution2D(filters=256, kernel_size=(3,3), padding=\"same\"))\n",
        "    vgg19.add(Activation('relu'))\n",
        "    vgg19.add(BatchNormalization())\n",
        "    #layer7 8*8*256\n",
        "    vgg19.add(Convolution2D(filters=256, kernel_size=(3,3), padding=\"same\"))\n",
        "    vgg19.add(Activation('relu'))\n",
        "    vgg19.add(BatchNormalization())\n",
        "    #layer8 4*4*256\n",
        "    vgg19.add(Convolution2D(filters=256, kernel_size=(3,3), padding=\"same\"))\n",
        "    vgg19.add(Activation('relu'))\n",
        "    vgg19.add(MaxPooling2D(pool_size=(2,2),strides=(2,2)))\n",
        "    vgg19.add(BatchNormalization())\n",
        "\n",
        "    #BLOCK4\n",
        "    #layer8 4*4*512\n",
        "    vgg19.add(Convolution2D(filters=512, kernel_size=(3,3), padding=\"same\"))\n",
        "    vgg19.add(Activation('relu'))\n",
        "    vgg19.add(BatchNormalization())\n",
        "    #layer9 4*4*512\n",
        "    vgg19.add(Convolution2D(filters=512, kernel_size=(3,3), padding=\"same\"))\n",
        "    vgg19.add(Activation('relu'))\n",
        "    vgg19.add(BatchNormalization())\n",
        "    #layer10 4*4*512\n",
        "    vgg19.add(Convolution2D(filters=512, kernel_size=(3,3), padding=\"same\"))\n",
        "    vgg19.add(Activation('relu'))\n",
        "    vgg19.add(BatchNormalization())\n",
        "    #layer11 2*2*512\n",
        "    vgg19.add(Convolution2D(filters=512, kernel_size=(3,3), padding=\"same\"))\n",
        "    vgg19.add(Activation('relu'))\n",
        "    vgg19.add(MaxPooling2D(pool_size=(2,2),strides=(2,2)))\n",
        "    vgg19.add(BatchNormalization())\n",
        "\n",
        "    #BLOCK5\n",
        "    #layer11 2*2*512\n",
        "    vgg19.add(Convolution2D(filters=512, kernel_size=(3,3), padding=\"same\"))\n",
        "    vgg19.add(Activation('relu'))\n",
        "    vgg19.add(BatchNormalization())\n",
        "    #layer12 2*2*512\n",
        "    vgg19.add(Convolution2D(filters=512, kernel_size=(3,3), padding=\"same\"))  \n",
        "    vgg19.add(Activation('relu')) \n",
        "    vgg19.add(BatchNormalization())    \n",
        "    #layer13 2*2*512\n",
        "    vgg19.add(Convolution2D(filters=512, kernel_size=(3,3), padding=\"same\"))  \n",
        "    vgg19.add(Activation('relu')) \n",
        "    vgg19.add(BatchNormalization())    \n",
        "    #layer13 1*1*512\n",
        "    vgg19.add(Convolution2D(filters=512, kernel_size=(3,3), padding=\"same\"))\n",
        "    vgg19.add(Activation('relu'))\n",
        "    vgg19.add(MaxPooling2D(pool_size=(2,2),strides=(2,2)))\n",
        "    vgg19.add(BatchNormalization())\n",
        "\n",
        "    # seventh block (classifier)\n",
        "    #layer14 4096\n",
        "    vgg19.add(Flatten())\n",
        "    vgg19.add(Dense(units=4096))\n",
        "    vgg19.add(Activation('relu')) \n",
        "    vgg19.add(BatchNormalization())\n",
        "    vgg19.add(Dropout(0.5))\n",
        "    #layer15 4096\n",
        "    vgg19.add(Dense(units=4096))\n",
        "    vgg19.add(Activation('relu')) \n",
        "    vgg19.add(BatchNormalization())\n",
        "    vgg19.add(Dropout(0.5))\n",
        "    #layer16 1000\n",
        "    vgg19.add(Dense(units=1000))\n",
        "    vgg19.add(Activation('relu'))\n",
        "    vgg19.add(BatchNormalization())\n",
        "    vgg19.add(Dropout(0.5)) \n",
        "\n",
        "    vgg19.add(Dense(2, activation=\"softmax\"))\n",
        "\n",
        "    return vgg19"
      ]
    },
    {
      "cell_type": "code",
      "execution_count": 11,
      "metadata": {
        "id": "pPSlHYE8cD_c",
        "colab": {
          "base_uri": "https://localhost:8080/"
        },
        "outputId": "86f17630-fefd-4f1d-bd34-32c496124513"
      },
      "outputs": [
        {
          "output_type": "stream",
          "name": "stdout",
          "text": [
            "Model: \"sequential\"\n",
            "_________________________________________________________________\n",
            " Layer (type)                Output Shape              Param #   \n",
            "=================================================================\n",
            " conv2d (Conv2D)             (None, 128, 128, 64)      640       \n",
            "                                                                 \n",
            " activation (Activation)     (None, 128, 128, 64)      0         \n",
            "                                                                 \n",
            " batch_normalization (BatchN  (None, 128, 128, 64)     256       \n",
            " ormalization)                                                   \n",
            "                                                                 \n",
            " conv2d_1 (Conv2D)           (None, 128, 128, 64)      36928     \n",
            "                                                                 \n",
            " activation_1 (Activation)   (None, 128, 128, 64)      0         \n",
            "                                                                 \n",
            " max_pooling2d (MaxPooling2D  (None, 64, 64, 64)       0         \n",
            " )                                                               \n",
            "                                                                 \n",
            " batch_normalization_1 (Batc  (None, 64, 64, 64)       256       \n",
            " hNormalization)                                                 \n",
            "                                                                 \n",
            " conv2d_2 (Conv2D)           (None, 64, 64, 128)       73856     \n",
            "                                                                 \n",
            " activation_2 (Activation)   (None, 64, 64, 128)       0         \n",
            "                                                                 \n",
            " batch_normalization_2 (Batc  (None, 64, 64, 128)      512       \n",
            " hNormalization)                                                 \n",
            "                                                                 \n",
            " conv2d_3 (Conv2D)           (None, 64, 64, 128)       147584    \n",
            "                                                                 \n",
            " activation_3 (Activation)   (None, 64, 64, 128)       0         \n",
            "                                                                 \n",
            " max_pooling2d_1 (MaxPooling  (None, 32, 32, 128)      0         \n",
            " 2D)                                                             \n",
            "                                                                 \n",
            " batch_normalization_3 (Batc  (None, 32, 32, 128)      512       \n",
            " hNormalization)                                                 \n",
            "                                                                 \n",
            " conv2d_4 (Conv2D)           (None, 32, 32, 256)       295168    \n",
            "                                                                 \n",
            " activation_4 (Activation)   (None, 32, 32, 256)       0         \n",
            "                                                                 \n",
            " batch_normalization_4 (Batc  (None, 32, 32, 256)      1024      \n",
            " hNormalization)                                                 \n",
            "                                                                 \n",
            " conv2d_5 (Conv2D)           (None, 32, 32, 256)       590080    \n",
            "                                                                 \n",
            " activation_5 (Activation)   (None, 32, 32, 256)       0         \n",
            "                                                                 \n",
            " batch_normalization_5 (Batc  (None, 32, 32, 256)      1024      \n",
            " hNormalization)                                                 \n",
            "                                                                 \n",
            " conv2d_6 (Conv2D)           (None, 32, 32, 256)       590080    \n",
            "                                                                 \n",
            " activation_6 (Activation)   (None, 32, 32, 256)       0         \n",
            "                                                                 \n",
            " batch_normalization_6 (Batc  (None, 32, 32, 256)      1024      \n",
            " hNormalization)                                                 \n",
            "                                                                 \n",
            " conv2d_7 (Conv2D)           (None, 32, 32, 256)       590080    \n",
            "                                                                 \n",
            " activation_7 (Activation)   (None, 32, 32, 256)       0         \n",
            "                                                                 \n",
            " max_pooling2d_2 (MaxPooling  (None, 16, 16, 256)      0         \n",
            " 2D)                                                             \n",
            "                                                                 \n",
            " batch_normalization_7 (Batc  (None, 16, 16, 256)      1024      \n",
            " hNormalization)                                                 \n",
            "                                                                 \n",
            " conv2d_8 (Conv2D)           (None, 16, 16, 512)       1180160   \n",
            "                                                                 \n",
            " activation_8 (Activation)   (None, 16, 16, 512)       0         \n",
            "                                                                 \n",
            " batch_normalization_8 (Batc  (None, 16, 16, 512)      2048      \n",
            " hNormalization)                                                 \n",
            "                                                                 \n",
            " conv2d_9 (Conv2D)           (None, 16, 16, 512)       2359808   \n",
            "                                                                 \n",
            " activation_9 (Activation)   (None, 16, 16, 512)       0         \n",
            "                                                                 \n",
            " batch_normalization_9 (Batc  (None, 16, 16, 512)      2048      \n",
            " hNormalization)                                                 \n",
            "                                                                 \n",
            " conv2d_10 (Conv2D)          (None, 16, 16, 512)       2359808   \n",
            "                                                                 \n",
            " activation_10 (Activation)  (None, 16, 16, 512)       0         \n",
            "                                                                 \n",
            " batch_normalization_10 (Bat  (None, 16, 16, 512)      2048      \n",
            " chNormalization)                                                \n",
            "                                                                 \n",
            " conv2d_11 (Conv2D)          (None, 16, 16, 512)       2359808   \n",
            "                                                                 \n",
            " activation_11 (Activation)  (None, 16, 16, 512)       0         \n",
            "                                                                 \n",
            " max_pooling2d_3 (MaxPooling  (None, 8, 8, 512)        0         \n",
            " 2D)                                                             \n",
            "                                                                 \n",
            " batch_normalization_11 (Bat  (None, 8, 8, 512)        2048      \n",
            " chNormalization)                                                \n",
            "                                                                 \n",
            " conv2d_12 (Conv2D)          (None, 8, 8, 512)         2359808   \n",
            "                                                                 \n",
            " activation_12 (Activation)  (None, 8, 8, 512)         0         \n",
            "                                                                 \n",
            " batch_normalization_12 (Bat  (None, 8, 8, 512)        2048      \n",
            " chNormalization)                                                \n",
            "                                                                 \n",
            " conv2d_13 (Conv2D)          (None, 8, 8, 512)         2359808   \n",
            "                                                                 \n",
            " activation_13 (Activation)  (None, 8, 8, 512)         0         \n",
            "                                                                 \n",
            " batch_normalization_13 (Bat  (None, 8, 8, 512)        2048      \n",
            " chNormalization)                                                \n",
            "                                                                 \n",
            " conv2d_14 (Conv2D)          (None, 8, 8, 512)         2359808   \n",
            "                                                                 \n",
            " activation_14 (Activation)  (None, 8, 8, 512)         0         \n",
            "                                                                 \n",
            " batch_normalization_14 (Bat  (None, 8, 8, 512)        2048      \n",
            " chNormalization)                                                \n",
            "                                                                 \n",
            " conv2d_15 (Conv2D)          (None, 8, 8, 512)         2359808   \n",
            "                                                                 \n",
            " activation_15 (Activation)  (None, 8, 8, 512)         0         \n",
            "                                                                 \n",
            " max_pooling2d_4 (MaxPooling  (None, 4, 4, 512)        0         \n",
            " 2D)                                                             \n",
            "                                                                 \n",
            " batch_normalization_15 (Bat  (None, 4, 4, 512)        2048      \n",
            " chNormalization)                                                \n",
            "                                                                 \n",
            " flatten (Flatten)           (None, 8192)              0         \n",
            "                                                                 \n",
            " dense (Dense)               (None, 4096)              33558528  \n",
            "                                                                 \n",
            " activation_16 (Activation)  (None, 4096)              0         \n",
            "                                                                 \n",
            " batch_normalization_16 (Bat  (None, 4096)             16384     \n",
            " chNormalization)                                                \n",
            "                                                                 \n",
            " dropout (Dropout)           (None, 4096)              0         \n",
            "                                                                 \n",
            " dense_1 (Dense)             (None, 4096)              16781312  \n",
            "                                                                 \n",
            " activation_17 (Activation)  (None, 4096)              0         \n",
            "                                                                 \n",
            " batch_normalization_17 (Bat  (None, 4096)             16384     \n",
            " chNormalization)                                                \n",
            "                                                                 \n",
            " dropout_1 (Dropout)         (None, 4096)              0         \n",
            "                                                                 \n",
            " dense_2 (Dense)             (None, 1000)              4097000   \n",
            "                                                                 \n",
            " activation_18 (Activation)  (None, 1000)              0         \n",
            "                                                                 \n",
            " batch_normalization_18 (Bat  (None, 1000)             4000      \n",
            " chNormalization)                                                \n",
            "                                                                 \n",
            " dropout_2 (Dropout)         (None, 1000)              0         \n",
            "                                                                 \n",
            " dense_3 (Dense)             (None, 2)                 2002      \n",
            "                                                                 \n",
            "=================================================================\n",
            "Total params: 74,520,858\n",
            "Trainable params: 74,491,466\n",
            "Non-trainable params: 29,392\n",
            "_________________________________________________________________\n"
          ]
        }
      ],
      "source": [
        "num_classes=2\n",
        "vgg19=vgg19(num_classes)\n",
        "vgg19.summary()"
      ]
    },
    {
      "cell_type": "code",
      "execution_count": 12,
      "metadata": {
        "id": "vfmkSFf7l90F",
        "colab": {
          "base_uri": "https://localhost:8080/"
        },
        "outputId": "51e9de41-d2c1-46e6-dd78-29e1a1809062"
      },
      "outputs": [
        {
          "output_type": "stream",
          "name": "stdout",
          "text": [
            "Model: \"sequential\"\n",
            "_________________________________________________________________\n",
            " Layer (type)                Output Shape              Param #   \n",
            "=================================================================\n",
            " conv2d (Conv2D)             (None, 128, 128, 64)      640       \n",
            "                                                                 \n",
            " activation (Activation)     (None, 128, 128, 64)      0         \n",
            "                                                                 \n",
            " batch_normalization (BatchN  (None, 128, 128, 64)     256       \n",
            " ormalization)                                                   \n",
            "                                                                 \n",
            " conv2d_1 (Conv2D)           (None, 128, 128, 64)      36928     \n",
            "                                                                 \n",
            " activation_1 (Activation)   (None, 128, 128, 64)      0         \n",
            "                                                                 \n",
            " max_pooling2d (MaxPooling2D  (None, 64, 64, 64)       0         \n",
            " )                                                               \n",
            "                                                                 \n",
            " batch_normalization_1 (Batc  (None, 64, 64, 64)       256       \n",
            " hNormalization)                                                 \n",
            "                                                                 \n",
            " conv2d_2 (Conv2D)           (None, 64, 64, 128)       73856     \n",
            "                                                                 \n",
            " activation_2 (Activation)   (None, 64, 64, 128)       0         \n",
            "                                                                 \n",
            " batch_normalization_2 (Batc  (None, 64, 64, 128)      512       \n",
            " hNormalization)                                                 \n",
            "                                                                 \n",
            " conv2d_3 (Conv2D)           (None, 64, 64, 128)       147584    \n",
            "                                                                 \n",
            " activation_3 (Activation)   (None, 64, 64, 128)       0         \n",
            "                                                                 \n",
            " max_pooling2d_1 (MaxPooling  (None, 32, 32, 128)      0         \n",
            " 2D)                                                             \n",
            "                                                                 \n",
            " batch_normalization_3 (Batc  (None, 32, 32, 128)      512       \n",
            " hNormalization)                                                 \n",
            "                                                                 \n",
            " conv2d_4 (Conv2D)           (None, 32, 32, 256)       295168    \n",
            "                                                                 \n",
            " activation_4 (Activation)   (None, 32, 32, 256)       0         \n",
            "                                                                 \n",
            " batch_normalization_4 (Batc  (None, 32, 32, 256)      1024      \n",
            " hNormalization)                                                 \n",
            "                                                                 \n",
            " conv2d_5 (Conv2D)           (None, 32, 32, 256)       590080    \n",
            "                                                                 \n",
            " activation_5 (Activation)   (None, 32, 32, 256)       0         \n",
            "                                                                 \n",
            " batch_normalization_5 (Batc  (None, 32, 32, 256)      1024      \n",
            " hNormalization)                                                 \n",
            "                                                                 \n",
            " conv2d_6 (Conv2D)           (None, 32, 32, 256)       590080    \n",
            "                                                                 \n",
            " activation_6 (Activation)   (None, 32, 32, 256)       0         \n",
            "                                                                 \n",
            " batch_normalization_6 (Batc  (None, 32, 32, 256)      1024      \n",
            " hNormalization)                                                 \n",
            "                                                                 \n",
            " conv2d_7 (Conv2D)           (None, 32, 32, 256)       590080    \n",
            "                                                                 \n",
            " activation_7 (Activation)   (None, 32, 32, 256)       0         \n",
            "                                                                 \n",
            " max_pooling2d_2 (MaxPooling  (None, 16, 16, 256)      0         \n",
            " 2D)                                                             \n",
            "                                                                 \n",
            " batch_normalization_7 (Batc  (None, 16, 16, 256)      1024      \n",
            " hNormalization)                                                 \n",
            "                                                                 \n",
            " conv2d_8 (Conv2D)           (None, 16, 16, 512)       1180160   \n",
            "                                                                 \n",
            " activation_8 (Activation)   (None, 16, 16, 512)       0         \n",
            "                                                                 \n",
            " batch_normalization_8 (Batc  (None, 16, 16, 512)      2048      \n",
            " hNormalization)                                                 \n",
            "                                                                 \n",
            " conv2d_9 (Conv2D)           (None, 16, 16, 512)       2359808   \n",
            "                                                                 \n",
            " activation_9 (Activation)   (None, 16, 16, 512)       0         \n",
            "                                                                 \n",
            " batch_normalization_9 (Batc  (None, 16, 16, 512)      2048      \n",
            " hNormalization)                                                 \n",
            "                                                                 \n",
            " conv2d_10 (Conv2D)          (None, 16, 16, 512)       2359808   \n",
            "                                                                 \n",
            " activation_10 (Activation)  (None, 16, 16, 512)       0         \n",
            "                                                                 \n",
            " batch_normalization_10 (Bat  (None, 16, 16, 512)      2048      \n",
            " chNormalization)                                                \n",
            "                                                                 \n",
            " conv2d_11 (Conv2D)          (None, 16, 16, 512)       2359808   \n",
            "                                                                 \n",
            " activation_11 (Activation)  (None, 16, 16, 512)       0         \n",
            "                                                                 \n",
            " max_pooling2d_3 (MaxPooling  (None, 8, 8, 512)        0         \n",
            " 2D)                                                             \n",
            "                                                                 \n",
            " batch_normalization_11 (Bat  (None, 8, 8, 512)        2048      \n",
            " chNormalization)                                                \n",
            "                                                                 \n",
            " conv2d_12 (Conv2D)          (None, 8, 8, 512)         2359808   \n",
            "                                                                 \n",
            " activation_12 (Activation)  (None, 8, 8, 512)         0         \n",
            "                                                                 \n",
            " batch_normalization_12 (Bat  (None, 8, 8, 512)        2048      \n",
            " chNormalization)                                                \n",
            "                                                                 \n",
            " conv2d_13 (Conv2D)          (None, 8, 8, 512)         2359808   \n",
            "                                                                 \n",
            " activation_13 (Activation)  (None, 8, 8, 512)         0         \n",
            "                                                                 \n",
            " batch_normalization_13 (Bat  (None, 8, 8, 512)        2048      \n",
            " chNormalization)                                                \n",
            "                                                                 \n",
            " conv2d_14 (Conv2D)          (None, 8, 8, 512)         2359808   \n"
          ]
        },
        {
          "output_type": "stream",
          "name": "stderr",
          "text": [
            "/usr/local/lib/python3.7/dist-packages/keras/optimizer_v2/adam.py:105: UserWarning: The `lr` argument is deprecated, use `learning_rate` instead.\n",
            "  super(Adam, self).__init__(name, **kwargs)\n"
          ]
        },
        {
          "output_type": "stream",
          "name": "stdout",
          "text": [
            "                                                                 \n",
            " activation_14 (Activation)  (None, 8, 8, 512)         0         \n",
            "                                                                 \n",
            " batch_normalization_14 (Bat  (None, 8, 8, 512)        2048      \n",
            " chNormalization)                                                \n",
            "                                                                 \n",
            " conv2d_15 (Conv2D)          (None, 8, 8, 512)         2359808   \n",
            "                                                                 \n",
            " activation_15 (Activation)  (None, 8, 8, 512)         0         \n",
            "                                                                 \n",
            " max_pooling2d_4 (MaxPooling  (None, 4, 4, 512)        0         \n",
            " 2D)                                                             \n",
            "                                                                 \n",
            " batch_normalization_15 (Bat  (None, 4, 4, 512)        2048      \n",
            " chNormalization)                                                \n",
            "                                                                 \n",
            " flatten (Flatten)           (None, 8192)              0         \n",
            "                                                                 \n",
            " dense (Dense)               (None, 4096)              33558528  \n",
            "                                                                 \n",
            " activation_16 (Activation)  (None, 4096)              0         \n",
            "                                                                 \n",
            " batch_normalization_16 (Bat  (None, 4096)             16384     \n",
            " chNormalization)                                                \n",
            "                                                                 \n",
            " dropout (Dropout)           (None, 4096)              0         \n",
            "                                                                 \n",
            " dense_1 (Dense)             (None, 4096)              16781312  \n",
            "                                                                 \n",
            " activation_17 (Activation)  (None, 4096)              0         \n",
            "                                                                 \n",
            " batch_normalization_17 (Bat  (None, 4096)             16384     \n",
            " chNormalization)                                                \n",
            "                                                                 \n",
            " dropout_1 (Dropout)         (None, 4096)              0         \n",
            "                                                                 \n",
            " dense_2 (Dense)             (None, 1000)              4097000   \n",
            "                                                                 \n",
            " activation_18 (Activation)  (None, 1000)              0         \n",
            "                                                                 \n",
            " batch_normalization_18 (Bat  (None, 1000)             4000      \n",
            " chNormalization)                                                \n",
            "                                                                 \n",
            " dropout_2 (Dropout)         (None, 1000)              0         \n",
            "                                                                 \n",
            " dense_3 (Dense)             (None, 2)                 2002      \n",
            "                                                                 \n",
            "=================================================================\n",
            "Total params: 74,520,858\n",
            "Trainable params: 74,491,466\n",
            "Non-trainable params: 29,392\n",
            "_________________________________________________________________\n"
          ]
        }
      ],
      "source": [
        "#setting hyperparameter, menggunakan Adam\n",
        "opt = Adam(lr=0.0001)\n",
        "vgg19.compile(loss='categorical_crossentropy', optimizer=opt, metrics=['accuracy'])\n",
        "vgg19.summary()"
      ]
    },
    {
      "cell_type": "code",
      "execution_count": 13,
      "metadata": {
        "id": "2MIF8tBZoSih",
        "colab": {
          "base_uri": "https://localhost:8080/"
        },
        "outputId": "99092ff8-6ae8-4fdf-c614-e0933dd216d8"
      },
      "outputs": [
        {
          "output_type": "stream",
          "name": "stdout",
          "text": [
            "Epoch 1/30\n",
            "159/159 [==============================] - 39s 148ms/step - loss: 0.5868 - accuracy: 0.8250 - val_loss: 4.1416 - val_accuracy: 0.5205\n",
            "Epoch 2/30\n",
            "159/159 [==============================] - 20s 123ms/step - loss: 0.5152 - accuracy: 0.8479 - val_loss: 8.4336 - val_accuracy: 0.5205\n",
            "Epoch 3/30\n",
            "159/159 [==============================] - 20s 125ms/step - loss: 0.4536 - accuracy: 0.8716 - val_loss: 0.8173 - val_accuracy: 0.7177\n",
            "Epoch 4/30\n",
            "159/159 [==============================] - 22s 136ms/step - loss: 0.3394 - accuracy: 0.8926 - val_loss: 0.2284 - val_accuracy: 0.9180\n",
            "Epoch 5/30\n",
            "159/159 [==============================] - 21s 130ms/step - loss: 0.3394 - accuracy: 0.8961 - val_loss: 0.2257 - val_accuracy: 0.9369\n",
            "Epoch 6/30\n",
            "159/159 [==============================] - 21s 135ms/step - loss: 0.2625 - accuracy: 0.9139 - val_loss: 0.1782 - val_accuracy: 0.9353\n",
            "Epoch 7/30\n",
            "159/159 [==============================] - 21s 132ms/step - loss: 0.1923 - accuracy: 0.9376 - val_loss: 0.2416 - val_accuracy: 0.9132\n",
            "Epoch 8/30\n",
            "159/159 [==============================] - 21s 130ms/step - loss: 0.2817 - accuracy: 0.9092 - val_loss: 0.1592 - val_accuracy: 0.9448\n",
            "Epoch 9/30\n",
            "159/159 [==============================] - 21s 131ms/step - loss: 0.2048 - accuracy: 0.9313 - val_loss: 0.2150 - val_accuracy: 0.9259\n",
            "Epoch 10/30\n",
            "159/159 [==============================] - 21s 133ms/step - loss: 0.3251 - accuracy: 0.9009 - val_loss: 0.3298 - val_accuracy: 0.9164\n",
            "Epoch 11/30\n",
            "159/159 [==============================] - 21s 132ms/step - loss: 0.2624 - accuracy: 0.9103 - val_loss: 0.2669 - val_accuracy: 0.9164\n",
            "Epoch 12/30\n",
            "159/159 [==============================] - 21s 132ms/step - loss: 0.1930 - accuracy: 0.9364 - val_loss: 0.1780 - val_accuracy: 0.9353\n",
            "Epoch 13/30\n",
            "159/159 [==============================] - 21s 132ms/step - loss: 0.1680 - accuracy: 0.9415 - val_loss: 0.2137 - val_accuracy: 0.9322\n",
            "Epoch 14/30\n",
            "159/159 [==============================] - 21s 133ms/step - loss: 0.1889 - accuracy: 0.9384 - val_loss: 0.2406 - val_accuracy: 0.9290\n",
            "Epoch 15/30\n",
            "159/159 [==============================] - 21s 133ms/step - loss: 0.1671 - accuracy: 0.9467 - val_loss: 0.1550 - val_accuracy: 0.9353\n",
            "Epoch 16/30\n",
            "159/159 [==============================] - 21s 133ms/step - loss: 0.0892 - accuracy: 0.9660 - val_loss: 0.2432 - val_accuracy: 0.9432\n",
            "Epoch 17/30\n",
            "159/159 [==============================] - 21s 133ms/step - loss: 0.1099 - accuracy: 0.9692 - val_loss: 0.1912 - val_accuracy: 0.9385\n",
            "Epoch 18/30\n",
            "159/159 [==============================] - 21s 133ms/step - loss: 0.0882 - accuracy: 0.9688 - val_loss: 0.1894 - val_accuracy: 0.9464\n",
            "Epoch 19/30\n",
            "159/159 [==============================] - 21s 132ms/step - loss: 0.1087 - accuracy: 0.9660 - val_loss: 0.2499 - val_accuracy: 0.9401\n",
            "Epoch 20/30\n",
            "159/159 [==============================] - 21s 132ms/step - loss: 0.0949 - accuracy: 0.9656 - val_loss: 0.2347 - val_accuracy: 0.9495\n",
            "Epoch 21/30\n",
            "159/159 [==============================] - 21s 133ms/step - loss: 0.1414 - accuracy: 0.9506 - val_loss: 0.2075 - val_accuracy: 0.9338\n",
            "Epoch 22/30\n",
            "159/159 [==============================] - 21s 132ms/step - loss: 0.0989 - accuracy: 0.9664 - val_loss: 0.1918 - val_accuracy: 0.9290\n",
            "Epoch 23/30\n",
            "159/159 [==============================] - 21s 132ms/step - loss: 0.0616 - accuracy: 0.9787 - val_loss: 0.6301 - val_accuracy: 0.9054\n",
            "Epoch 24/30\n",
            "159/159 [==============================] - 21s 133ms/step - loss: 0.1454 - accuracy: 0.9494 - val_loss: 0.1859 - val_accuracy: 0.9448\n",
            "Epoch 25/30\n",
            "159/159 [==============================] - 21s 133ms/step - loss: 0.1032 - accuracy: 0.9652 - val_loss: 0.1397 - val_accuracy: 0.9401\n",
            "Epoch 26/30\n",
            "159/159 [==============================] - 21s 133ms/step - loss: 0.0586 - accuracy: 0.9783 - val_loss: 0.2054 - val_accuracy: 0.9479\n",
            "Epoch 27/30\n",
            "159/159 [==============================] - 22s 140ms/step - loss: 0.0872 - accuracy: 0.9751 - val_loss: 0.2369 - val_accuracy: 0.9385\n",
            "Epoch 28/30\n",
            "159/159 [==============================] - 21s 133ms/step - loss: 0.0611 - accuracy: 0.9799 - val_loss: 0.3490 - val_accuracy: 0.9180\n",
            "Epoch 29/30\n",
            "159/159 [==============================] - 21s 133ms/step - loss: 0.0469 - accuracy: 0.9842 - val_loss: 0.2535 - val_accuracy: 0.9369\n",
            "Epoch 30/30\n",
            "159/159 [==============================] - 21s 133ms/step - loss: 0.0692 - accuracy: 0.9806 - val_loss: 0.2034 - val_accuracy: 0.9338\n"
          ]
        }
      ],
      "source": [
        "#training data\n",
        "H = vgg19.fit(trainX, trainY, validation_data=(testX, testY), epochs=30, batch_size=16)"
      ]
    },
    {
      "cell_type": "code",
      "execution_count": 14,
      "metadata": {
        "id": "_B1Zc9CK76XA",
        "colab": {
          "base_uri": "https://localhost:8080/"
        },
        "outputId": "8601a5c4-581c-4e17-fe41-9f4dcb364d91"
      },
      "outputs": [
        {
          "output_type": "stream",
          "name": "stdout",
          "text": [
            "[INFO] evaluating network...\n"
          ]
        }
      ],
      "source": [
        "print(\"[INFO] evaluating network...\")\n",
        "predictions = vgg19.predict(testX, batch_size=16)\n",
        "pred=predictions.argmax(axis=1)\n",
        "testY_argm=testY.argmax(axis=1)\n"
      ]
    },
    {
      "cell_type": "code",
      "execution_count": 15,
      "metadata": {
        "id": "H-0h97OO8Lpw",
        "colab": {
          "base_uri": "https://localhost:8080/"
        },
        "outputId": "75d0705f-12f6-405a-99a8-7e934876a60f"
      },
      "outputs": [
        {
          "output_type": "stream",
          "name": "stdout",
          "text": [
            "              precision    recall  f1-score   support\n",
            "\n",
            "      Normal       0.98      0.89      0.93       330\n",
            "   Pneumonia       0.89      0.98      0.93       304\n",
            "\n",
            "    accuracy                           0.93       634\n",
            "   macro avg       0.94      0.94      0.93       634\n",
            "weighted avg       0.94      0.93      0.93       634\n",
            "\n"
          ]
        }
      ],
      "source": [
        "print(classification_report(testY_argm,pred,target_names=lb.classes_))"
      ]
    },
    {
      "cell_type": "code",
      "execution_count": 16,
      "metadata": {
        "id": "bu_rtCRz8OGU",
        "colab": {
          "base_uri": "https://localhost:8080/"
        },
        "outputId": "eb0d339d-f184-4cf4-aee4-c75a028ceed5"
      },
      "outputs": [
        {
          "output_type": "stream",
          "name": "stdout",
          "text": [
            "20/20 [==============================] - 6s 177ms/step - loss: 0.2034 - accuracy: 0.9338\n",
            "Test Loss 0.2034, accuracy 93.38%\n"
          ]
        }
      ],
      "source": [
        "test_score = vgg19.evaluate(testX, testY) \n",
        "print(\"Test Loss {:.4f}, accuracy {:.2f}%\".format(test_score[0], test_score[1] * 100))"
      ]
    },
    {
      "cell_type": "code",
      "execution_count": 17,
      "metadata": {
        "id": "UMD619SS9sja"
      },
      "outputs": [],
      "source": [
        "from sklearn.metrics import confusion_matrix\n",
        "import itertools\n",
        "\n",
        "def plot_confusion_matrix(cm, classes, normalize=False, title='Confusion matrix', cmap='Blues'):\n",
        "  if normalize:\n",
        "     cm = cm.astype('float') / cm.sum(axis=1)[:, np.newaxis]\n",
        "     print(\"Normalized confusion matrix\")\n",
        "  else:\n",
        "     print('Confusion matrix, without normalization')\n",
        "  print(cm)\n",
        "  plt.imshow(cm, interpolation='nearest', cmap=cmap)\n",
        "  plt.title(title)\n",
        "  plt.colorbar()\n",
        "  tick_marks = np.arange(len(classes))\n",
        "  plt.xticks(tick_marks, classes, rotation=45)\n",
        "  plt.yticks(tick_marks, classes)\n",
        "  fmt = '.2f' if normalize else 'd'\n",
        "  thresh = cm.max() / 2.\n",
        "  for i, j in itertools.product(range(cm.shape[0]), range(cm.shape[1])):\n",
        "      plt.text(j, i, format(cm[i, j], fmt), horizontalalignment=\"center\", color=\"white\" if cm[i, j] > thresh else \"black\")\n",
        "  plt.ylabel('True label')\n",
        "  plt.xlabel('Predicted label')\n",
        "  plt.tight_layout()"
      ]
    },
    {
      "cell_type": "code",
      "execution_count": 18,
      "metadata": {
        "id": "kRdOSf5d9zSw",
        "colab": {
          "base_uri": "https://localhost:8080/",
          "height": 1000
        },
        "outputId": "45c10077-886d-4f6d-ce39-31a26aaf5192"
      },
      "outputs": [
        {
          "output_type": "stream",
          "name": "stdout",
          "text": [
            "Normalized confusion matrix\n",
            "[[0.89 0.11]\n",
            " [0.02 0.98]]\n"
          ]
        },
        {
          "output_type": "display_data",
          "data": {
            "text/plain": [
              "<Figure size 432x288 with 2 Axes>"
            ],
            "image/png": "[encoded data removed]"
          },
          "metadata": {
            "needs_background": "light"
          }
        },
        {
          "output_type": "stream",
          "name": "stdout",
          "text": [
            "Confusion matrix, without normalization\n",
            "[[295  35]\n",
            " [  7 297]]\n"
          ]
        },
        {
          "output_type": "display_data",
          "data": {
            "text/plain": [
              "<Figure size 432x288 with 2 Axes>"
            ],
            "image/png": "[encoded data removed]"
          },
          "metadata": {
            "needs_background": "light"
          }
        },
        {
          "output_type": "display_data",
          "data": {
            "text/plain": [
              "<Figure size 432x288 with 1 Axes>"
            ],
            "image/png": "[encoded data removed]"
          },
          "metadata": {
            "needs_background": "light"
          }
        },
        {
          "output_type": "display_data",
          "data": {
            "text/plain": [
              "<Figure size 432x288 with 1 Axes>"
            ],
            "image/png": "[encoded data removed]"
          },
          "metadata": {
            "needs_background": "light"
          }
        }
      ],
      "source": [
        "cnf_matrix = confusion_matrix(testY_argm, pred)\n",
        "np.set_printoptions(precision=2)\n",
        "\n",
        "# Plot non/normalized confusion matrix\n",
        "plt.figure()\n",
        "plot_confusion_matrix(cnf_matrix,\n",
        "classes=lb.classes_, normalize=True)\n",
        "plt.show()\n",
        "\n",
        "plt.figure()\n",
        "plot_confusion_matrix(cnf_matrix,\n",
        "classes=lb.classes_, normalize=False)\n",
        "plt.show()\n",
        "\n",
        "f, ax = plt.subplots()\n",
        "ax.plot([None] + H.history['accuracy'], 'o-')\n",
        "ax.plot([None] + H.history['val_accuracy'], 'x-')\n",
        "\n",
        "ax.legend(['Train acc', 'Validation acc'], loc = 0)\n",
        "ax.set_title('Training/Validation acc per Epoch')\n",
        "ax.set_xlabel('Epoch')\n",
        "ax.set_ylabel('acc')\n",
        "plt.grid(True)\n",
        "\n",
        "f, ax = plt.subplots()\n",
        "ax.plot([None] + H.history['loss'], 'o-')\n",
        "ax.plot([None] + H.history['val_loss'], 'x-')\n",
        "ax.legend(['Train Loss', 'Validation Loss'], loc = 0)\n",
        "ax.set_title('Training/Validation Loss per Epoch')\n",
        "ax.set_xlabel('Epoch')\n",
        "ax.set_ylabel('loss')\n",
        "plt.grid(True)"
      ]
    }
  ],
  "metadata": {
    "colab": {
      "name": "pneumonia vgg 19.ipynb",
      "provenance": [],
      "authorship_tag": "ABX9TyO30/GUdiFDxM+xgLlhw2Dy",
      "include_colab_link": true
    },
    "gpuClass": "standard",
    "kernelspec": {
      "display_name": "Python 3",
      "name": "python3"
    },
    "language_info": {
      "name": "python"
    },
    "accelerator": "GPU"
  },
  "nbformat": 4,
  "nbformat_minor": 0
}